{
 "cells": [
  {
   "cell_type": "code",
   "execution_count": 5,
   "id": "297f57ce",
   "metadata": {},
   "outputs": [
    {
     "name": "stdout",
     "output_type": "stream",
     "text": [
      "B matrix:\n",
      "[[1.52149232 0.80021142]\n",
      " [0.38039818 0.80023512]\n",
      " [2.66258645 0.80018772]\n",
      " [2.28216784 0.        ]\n",
      " [2.28228869 2.40068167]]\n",
      "C matrix:\n",
      "[[2.62901151 3.50546977 1.75274086]\n",
      " [0.         0.83288027 2.91573551]]\n"
     ]
    }
   ],
   "source": [
    "# 1. 5 Points. Find a nonnegative factorization of the matrix\n",
    "\n",
    "import numpy as np\n",
    "\n",
    "from sklearn.decomposition import NMF\n",
    "\n",
    "# Given matrix A\n",
    "\n",
    "A = np.array([[4,6,5],[1,2,3],[7,10,7],[6,8,4],[6,10,11]])\n",
    "\n",
    "# Define the rank (number of components)\n",
    "\n",
    "K = 2\n",
    "\n",
    "# Perform NMF\n",
    "\n",
    "model = NMF(n_components=K, init='nndsvd', max_iter=1000)\n",
    "\n",
    "B = model.fit_transform(A)\n",
    "\n",
    "C = model.components_\n",
    "\n",
    "# The resulting W and H matrices are nonnegative factors of A\n",
    "\n",
    "print(\"B matrix:\")\n",
    "\n",
    "print(B)\n",
    "\n",
    "print(\"C matrix:\")\n",
    "\n",
    "print(C)"
   ]
  },
  {
   "cell_type": "code",
   "execution_count": 6,
   "id": "816b5982",
   "metadata": {},
   "outputs": [
    {
     "name": "stdout",
     "output_type": "stream",
     "text": [
      "approximate nonnegative factorization of A:\n",
      "[[ 3.99996681  5.99998381  5.00009392]\n",
      " [ 1.00149964  2.0013326   2.99857599]\n",
      " [ 7.00001646 10.00000803  7.00008771]\n",
      " [ 6.00009928  8.00004844  3.99998758]\n",
      " [ 5.99980116  9.99990298 11.00029418]]\n"
     ]
    }
   ],
   "source": [
    "import numpy as np\n",
    "from sklearn.decomposition import NMF\n",
    "\n",
    "# Given matrix A\n",
    "A = np.array([[4, 6, 5], [1, 2, 3], [7, 10, 7], [6, 8, 4], [6, 10, 11]])\n",
    "\n",
    "# Define the rank (number of components)\n",
    "rank = 2\n",
    "\n",
    "# Randomly initialize B and C\n",
    "B_init = np.random.rand(A.shape[0], rank)\n",
    "C_init = np.random.rand(rank, A.shape[1])\n",
    "\n",
    "# Perform NMF\n",
    "model = NMF(n_components=rank, init='custom')\n",
    "B = model.fit_transform(A, W=B_init, H=C_init)\n",
    "C = model.components_\n",
    "\n",
    "# Approximation of A\n",
    "A_approx = np.dot(B, C)\n",
    "\n",
    "print(\"approximate nonnegative factorization of A:\")\n",
    "print(A_approx)\n"
   ]
  },
  {
   "cell_type": "code",
   "execution_count": null,
   "id": "6a2e272d",
   "metadata": {},
   "outputs": [],
   "source": []
  }
 ],
 "metadata": {
  "kernelspec": {
   "display_name": "Python 3 (ipykernel)",
   "language": "python",
   "name": "python3"
  },
  "language_info": {
   "codemirror_mode": {
    "name": "ipython",
    "version": 3
   },
   "file_extension": ".py",
   "mimetype": "text/x-python",
   "name": "python",
   "nbconvert_exporter": "python",
   "pygments_lexer": "ipython3",
   "version": "3.11.4"
  }
 },
 "nbformat": 4,
 "nbformat_minor": 5
}
