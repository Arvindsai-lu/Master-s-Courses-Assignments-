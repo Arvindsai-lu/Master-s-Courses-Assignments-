{
 "cells": [
  {
   "cell_type": "code",
   "execution_count": 1,
   "id": "7a27fcec",
   "metadata": {},
   "outputs": [
    {
     "name": "stdout",
     "output_type": "stream",
     "text": [
      "Embedding dimension m: 921\n",
      "Does the Lemma hold? False\n"
     ]
    }
   ],
   "source": [
    "#  1. 2 Points. Construct any data matrix X of your choice with parameters n = 10, d = 5000 (For instance,\n",
    "# this could be any n columns of the identity matrix Id×d). Fix ϵ = 0.1 and compute the embedding\n",
    "# dimension m by plugging in the formula above.\n",
    "\n",
    "#  2. 7 Points. Construct a random projection matrix A of size m × d, and compare all pairwise (squared)\n",
    "# distances ∥u − v∥ with the distances between the projections∥Au − Av∥. Does the Lemma hold (i.e.,\n",
    "# for every pair of data points, is the projection distance is within 10% of the original distance)?\n",
    "\n",
    "import numpy as np\n",
    "from scipy.spatial.distance import pdist, squareform\n",
    "\n",
    "# 1. Construct any data matrix X of your choice with parameters n = 10, d = 5000 (as 1st question asked )\n",
    "\n",
    "n, d, eps = 10, 5000, 0.1\n",
    "X = np.eye(d)[:, :n]  \n",
    "\n",
    "# Compute the embedding dimension m by plugging in the formula above\n",
    "m = int(4 * np.log(n) / eps**2)\n",
    "print(f\"Embedding dimension m: {m}\")\n",
    "\n",
    "# 2. Construct a random projection matrix A of size m × d ( 2nd question 7 points)\n",
    "A = np.random.normal(0, 1/m, (m, d))\n",
    "\n",
    "# Compare all pairwise (squared) distances ||u - v||_2^2 with the distances between the projections ||Au - Av||_2^2\n",
    "dist_X = squareform(pdist(X.T, 'sqeuclidean'))\n",
    "dist_AX = squareform(pdist((A @ X).T, 'sqeuclidean'))\n",
    "\n",
    "# Check if the Lemma holds (every pair of data points, is the projection distance is within 10% of the original distance)\n",
    "lemma_holds = np.all((1 - eps) * dist_X <= dist_AX) and np.all(dist_AX <= (1 + eps) * dist_X)\n",
    "print(f\"Does the Lemma hold? {lemma_holds}\")\n",
    "\n",
    "\n"
   ]
  },
  {
   "cell_type": "code",
   "execution_count": null,
   "id": "5c67f713",
   "metadata": {},
   "outputs": [],
   "source": []
  },
  {
   "cell_type": "code",
   "execution_count": 2,
   "id": "894eee0c",
   "metadata": {},
   "outputs": [
    {
     "name": "stdout",
     "output_type": "stream",
     "text": [
      "For d = 5000, Does the Lemma hold? True\n",
      "For d = 10000, Does the Lemma hold? True\n",
      "For d = 20000, Does the Lemma hold? True\n",
      "For d = 40000, Does the Lemma hold? True\n"
     ]
    }
   ],
   "source": [
    "#  3. 8 Points. Repeat the above steps by increasing d as a factor 2 each time with m and n fixed. Make d\n",
    "#  larger and larger until your system runs out of memory. Verify that the Lemma holds in each case\n",
    "\n",
    "import numpy as np\n",
    "\n",
    "# Define the parameters\n",
    "n = 10\n",
    "epsilon = 0.1\n",
    "m = 923  # As calculated in step 1\n",
    "\n",
    "# Initialize a list to store results\n",
    "results = []\n",
    "\n",
    "# Loop through increasing values of d\n",
    "d_values = [5000, 10000, 20000, 40000]  # Add more values as we need lol but my system cant compatible to add that many\n",
    "\n",
    "for d in d_values:\n",
    "    # Generate data matrix X (e.g., random data)\n",
    "    X = np.random.rand(n, d)\n",
    "\n",
    "    # Generate random projection matrix A\n",
    "    A = np.random.normal(0, 1/np.sqrt(m), size=(m, d))\n",
    "\n",
    "    # Calculate pairwise distances\n",
    "    original_distances = np.linalg.norm(X[:, np.newaxis] - X, axis=2)\n",
    "    projected_distances = np.linalg.norm(np.dot(X, A.T)[:, np.newaxis] - np.dot(X, A.T), axis=2)\n",
    "\n",
    "    # Check if the Lemma holds (within 10%)\n",
    "    is_lemma_held = np.all(original_distances * (1 - epsilon) <= projected_distances) and np.all(projected_distances <= original_distances * (1 + epsilon))\n",
    "\n",
    "    results.append((d, is_lemma_held))\n",
    "\n",
    "# Print the results\n",
    "for d, lemma_held in results:\n",
    "    print(f\"For d = {d}, Does the Lemma hold? {lemma_held}\")\n"
   ]
  },
  {
   "cell_type": "code",
   "execution_count": null,
   "id": "7fd6ece3",
   "metadata": {},
   "outputs": [],
   "source": []
  },
  {
   "cell_type": "code",
   "execution_count": null,
   "id": "6666766e",
   "metadata": {},
   "outputs": [
    {
     "name": "stdout",
     "output_type": "stream",
     "text": [
      "For n = 10, Embedding dimension m: 921\n",
      "For n = 20, Embedding dimension m: 1198\n",
      "For n = 40, Embedding dimension m: 1475\n",
      "For n = 80, Embedding dimension m: 1752\n",
      "For n = 160, Embedding dimension m: 2030\n",
      "For n = 320, Embedding dimension m: 2307\n",
      "For n = 640, Embedding dimension m: 2584\n",
      "For n = 1280, Embedding dimension m: 2861\n",
      "For n = 2560, Embedding dimension m: 3139\n",
      "For n = 5120, Embedding dimension m: 3416\n"
     ]
    }
   ],
   "source": [
    "# 4. Repeat the above steps by increasing n as a factor 2 each time with d fixed. Make n larger\n",
    "# and larger until your system runs out of memory. Verify that the Lemma holds in each case.\n",
    "\n",
    "import numpy as np\n",
    "from scipy.spatial.distance import pdist, squareform\n",
    "\n",
    "# Define the initial parameters\n",
    "d = 5000\n",
    "eps = 0.1\n",
    "\n",
    "# Initialize a list to store results\n",
    "results = []\n",
    "\n",
    "# Start with n = 10 and keep doubling it until your system runs out of memory\n",
    "n = 10\n",
    "while True:\n",
    "    # Construct data matrix X\n",
    "    X = np.eye(d)[:, :n]\n",
    "\n",
    "    # Compute the embedding dimension m\n",
    "    m = int(4 * np.log(n) / eps**2)\n",
    "    print(f\"For n = {n}, Embedding dimension m: {m}\")\n",
    "\n",
    "    # Construct a random projection matrix A of size m × d\n",
    "    A = np.random.normal(0, 1/m, (m, d))\n",
    "\n",
    "    # Calculate distances\n",
    "    dist_X = squareform(pdist(X.T, 'sqeuclidean'))\n",
    "    dist_AX = squareform(pdist((A @ X).T, 'sqeuclidean'))\n",
    "\n",
    "    # Check if the Lemma holds\n",
    "    lemma_holds = np.all((1 - eps) * dist_X <= dist_AX) and np.all(dist_AX <= (1 + eps) * dist_X)\n",
    "    results.append((n, m, lemma_holds))\n",
    "\n",
    "    # Double n\n",
    "    n *= 2\n",
    "\n",
    "# Print the results\n",
    "for n, m, lemma_held in results:\n",
    "    print(f\"For n = {n}, m = {m}, Does the Lemma hold? {lemma_held}\")\n"
   ]
  },
  {
   "cell_type": "code",
   "execution_count": null,
   "id": "d9053506",
   "metadata": {},
   "outputs": [],
   "source": []
  }
 ],
 "metadata": {
  "kernelspec": {
   "display_name": "Python 3 (ipykernel)",
   "language": "python",
   "name": "python3"
  },
  "language_info": {
   "codemirror_mode": {
    "name": "ipython",
    "version": 3
   },
   "file_extension": ".py",
   "mimetype": "text/x-python",
   "name": "python",
   "nbconvert_exporter": "python",
   "pygments_lexer": "ipython3",
   "version": "3.11.4"
  }
 },
 "nbformat": 4,
 "nbformat_minor": 5
}
